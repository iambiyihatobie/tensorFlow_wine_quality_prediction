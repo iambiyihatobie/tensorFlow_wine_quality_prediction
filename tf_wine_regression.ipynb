{
 "cells": [
  {
   "cell_type": "markdown",
   "metadata": {},
   "source": [
    "# TensorFlow Regression: Predict Wine Quality"
   ]
  },
  {
   "cell_type": "markdown",
   "metadata": {},
   "source": [
    "#### Start"
   ]
  },
  {
   "cell_type": "code",
   "execution_count": 1,
   "metadata": {},
   "outputs": [],
   "source": [
    "# Initial System Setup\n",
    "from __future__ import absolute_import, division, print_function, unicode_literals\n",
    "\n",
    "import pathlib\n",
    "\n",
    "import matplotlib.pyplot as plt\n",
    "import pandas as pd\n",
    "import seaborn as sns\n",
    "\n",
    "import tensorflow as tf\n",
    "\n",
    "from tensorflow import keras\n",
    "from tensorflow.keras import layers"
   ]
  },
  {
   "cell_type": "code",
   "execution_count": 2,
   "metadata": {},
   "outputs": [
    {
     "name": "stdout",
     "output_type": "stream",
     "text": [
      "2.0.0\n"
     ]
    }
   ],
   "source": [
    "# tensorFlow Version\n",
    "print(tf.__version__)"
   ]
  },
  {
   "cell_type": "code",
   "execution_count": 3,
   "metadata": {},
   "outputs": [],
   "source": [
    "# import raw data if data has headers\n",
    "raw_dataset = pd.read_csv('winequality-white.csv', sep=';')"
   ]
  },
  {
   "cell_type": "code",
   "execution_count": 4,
   "metadata": {},
   "outputs": [],
   "source": [
    "dataset = raw_dataset.copy()"
   ]
  },
  {
   "cell_type": "code",
   "execution_count": 5,
   "metadata": {},
   "outputs": [
    {
     "data": {
      "text/html": [
       "<div>\n",
       "<style scoped>\n",
       "    .dataframe tbody tr th:only-of-type {\n",
       "        vertical-align: middle;\n",
       "    }\n",
       "\n",
       "    .dataframe tbody tr th {\n",
       "        vertical-align: top;\n",
       "    }\n",
       "\n",
       "    .dataframe thead th {\n",
       "        text-align: right;\n",
       "    }\n",
       "</style>\n",
       "<table border=\"1\" class=\"dataframe\">\n",
       "  <thead>\n",
       "    <tr style=\"text-align: right;\">\n",
       "      <th></th>\n",
       "      <th>fixed acidity</th>\n",
       "      <th>volatile acidity</th>\n",
       "      <th>citric acid</th>\n",
       "      <th>residual sugar</th>\n",
       "      <th>chlorides</th>\n",
       "      <th>free sulfur dioxide</th>\n",
       "      <th>total sulfur dioxide</th>\n",
       "      <th>density</th>\n",
       "      <th>pH</th>\n",
       "      <th>sulphates</th>\n",
       "      <th>alcohol</th>\n",
       "      <th>quality</th>\n",
       "    </tr>\n",
       "  </thead>\n",
       "  <tbody>\n",
       "    <tr>\n",
       "      <th>4893</th>\n",
       "      <td>6.2</td>\n",
       "      <td>0.21</td>\n",
       "      <td>0.29</td>\n",
       "      <td>1.6</td>\n",
       "      <td>0.039</td>\n",
       "      <td>24.0</td>\n",
       "      <td>92.0</td>\n",
       "      <td>0.99114</td>\n",
       "      <td>3.27</td>\n",
       "      <td>0.50</td>\n",
       "      <td>11.2</td>\n",
       "      <td>6</td>\n",
       "    </tr>\n",
       "    <tr>\n",
       "      <th>4894</th>\n",
       "      <td>6.6</td>\n",
       "      <td>0.32</td>\n",
       "      <td>0.36</td>\n",
       "      <td>8.0</td>\n",
       "      <td>0.047</td>\n",
       "      <td>57.0</td>\n",
       "      <td>168.0</td>\n",
       "      <td>0.99490</td>\n",
       "      <td>3.15</td>\n",
       "      <td>0.46</td>\n",
       "      <td>9.6</td>\n",
       "      <td>5</td>\n",
       "    </tr>\n",
       "    <tr>\n",
       "      <th>4895</th>\n",
       "      <td>6.5</td>\n",
       "      <td>0.24</td>\n",
       "      <td>0.19</td>\n",
       "      <td>1.2</td>\n",
       "      <td>0.041</td>\n",
       "      <td>30.0</td>\n",
       "      <td>111.0</td>\n",
       "      <td>0.99254</td>\n",
       "      <td>2.99</td>\n",
       "      <td>0.46</td>\n",
       "      <td>9.4</td>\n",
       "      <td>6</td>\n",
       "    </tr>\n",
       "    <tr>\n",
       "      <th>4896</th>\n",
       "      <td>5.5</td>\n",
       "      <td>0.29</td>\n",
       "      <td>0.30</td>\n",
       "      <td>1.1</td>\n",
       "      <td>0.022</td>\n",
       "      <td>20.0</td>\n",
       "      <td>110.0</td>\n",
       "      <td>0.98869</td>\n",
       "      <td>3.34</td>\n",
       "      <td>0.38</td>\n",
       "      <td>12.8</td>\n",
       "      <td>7</td>\n",
       "    </tr>\n",
       "    <tr>\n",
       "      <th>4897</th>\n",
       "      <td>6.0</td>\n",
       "      <td>0.21</td>\n",
       "      <td>0.38</td>\n",
       "      <td>0.8</td>\n",
       "      <td>0.020</td>\n",
       "      <td>22.0</td>\n",
       "      <td>98.0</td>\n",
       "      <td>0.98941</td>\n",
       "      <td>3.26</td>\n",
       "      <td>0.32</td>\n",
       "      <td>11.8</td>\n",
       "      <td>6</td>\n",
       "    </tr>\n",
       "  </tbody>\n",
       "</table>\n",
       "</div>"
      ],
      "text/plain": [
       "      fixed acidity  volatile acidity  citric acid  residual sugar  chlorides  \\\n",
       "4893            6.2              0.21         0.29             1.6      0.039   \n",
       "4894            6.6              0.32         0.36             8.0      0.047   \n",
       "4895            6.5              0.24         0.19             1.2      0.041   \n",
       "4896            5.5              0.29         0.30             1.1      0.022   \n",
       "4897            6.0              0.21         0.38             0.8      0.020   \n",
       "\n",
       "      free sulfur dioxide  total sulfur dioxide  density    pH  sulphates  \\\n",
       "4893                 24.0                  92.0  0.99114  3.27       0.50   \n",
       "4894                 57.0                 168.0  0.99490  3.15       0.46   \n",
       "4895                 30.0                 111.0  0.99254  2.99       0.46   \n",
       "4896                 20.0                 110.0  0.98869  3.34       0.38   \n",
       "4897                 22.0                  98.0  0.98941  3.26       0.32   \n",
       "\n",
       "      alcohol  quality  \n",
       "4893     11.2        6  \n",
       "4894      9.6        5  \n",
       "4895      9.4        6  \n",
       "4896     12.8        7  \n",
       "4897     11.8        6  "
      ]
     },
     "execution_count": 5,
     "metadata": {},
     "output_type": "execute_result"
    }
   ],
   "source": [
    "dataset.tail()"
   ]
  },
  {
   "cell_type": "code",
   "execution_count": 6,
   "metadata": {},
   "outputs": [
    {
     "data": {
      "text/plain": [
       "fixed acidity           0\n",
       "volatile acidity        0\n",
       "citric acid             0\n",
       "residual sugar          0\n",
       "chlorides               0\n",
       "free sulfur dioxide     0\n",
       "total sulfur dioxide    0\n",
       "density                 0\n",
       "pH                      0\n",
       "sulphates               0\n",
       "alcohol                 0\n",
       "quality                 0\n",
       "dtype: int64"
      ]
     },
     "execution_count": 6,
     "metadata": {},
     "output_type": "execute_result"
    }
   ],
   "source": [
    "# Check if the dataset contains unknown values.\n",
    "\n",
    "dataset.isna().sum()"
   ]
  },
  {
   "cell_type": "code",
   "execution_count": 7,
   "metadata": {},
   "outputs": [],
   "source": [
    "# drop those rows containing any values if any\n",
    "dataset = dataset.dropna()"
   ]
  },
  {
   "cell_type": "code",
   "execution_count": 8,
   "metadata": {},
   "outputs": [
    {
     "name": "stdout",
     "output_type": "stream",
     "text": [
      "3918 980\n"
     ]
    }
   ],
   "source": [
    "# Split the data into train and test\n",
    "train_dataset = dataset.sample(frac=0.8,random_state=0)\n",
    "test_dataset = dataset.drop(train_dataset.index)\n",
    "\n",
    "print(len(train_dataset), len(test_dataset))"
   ]
  },
  {
   "cell_type": "code",
   "execution_count": 9,
   "metadata": {},
   "outputs": [
    {
     "data": {
      "text/plain": [
       "<seaborn.axisgrid.PairGrid at 0x2a082b6c4c8>"
      ]
     },
     "execution_count": 9,
     "metadata": {},
     "output_type": "execute_result"
    },
    {
     "data": {
      "image/png": "[encoded data removed]",
      "text/plain": [
       "<Figure size 720x720 with 20 Axes>"
      ]
     },
     "metadata": {
      "needs_background": "light"
     },
     "output_type": "display_data"
    }
   ],
   "source": [
    "# Inspect the data\n",
    "# Have a quick look at the joint distribution of a few pairs of columns from the training set.\n",
    "\n",
    "sns.pairplot(train_dataset[[\"alcohol\", \"density\", \"pH\", \"chlorides\"]], diag_kind=\"kde\")"
   ]
  },
  {
   "cell_type": "code",
   "execution_count": 10,
   "metadata": {},
   "outputs": [
    {
     "data": {
      "text/html": [
       "<div>\n",
       "<style scoped>\n",
       "    .dataframe tbody tr th:only-of-type {\n",
       "        vertical-align: middle;\n",
       "    }\n",
       "\n",
       "    .dataframe tbody tr th {\n",
       "        vertical-align: top;\n",
       "    }\n",
       "\n",
       "    .dataframe thead th {\n",
       "        text-align: right;\n",
       "    }\n",
       "</style>\n",
       "<table border=\"1\" class=\"dataframe\">\n",
       "  <thead>\n",
       "    <tr style=\"text-align: right;\">\n",
       "      <th></th>\n",
       "      <th>count</th>\n",
       "      <th>mean</th>\n",
       "      <th>std</th>\n",
       "      <th>min</th>\n",
       "      <th>25%</th>\n",
       "      <th>50%</th>\n",
       "      <th>75%</th>\n",
       "      <th>max</th>\n",
       "    </tr>\n",
       "  </thead>\n",
       "  <tbody>\n",
       "    <tr>\n",
       "      <th>fixed acidity</th>\n",
       "      <td>3918.0</td>\n",
       "      <td>6.858754</td>\n",
       "      <td>0.855479</td>\n",
       "      <td>4.20000</td>\n",
       "      <td>6.300000</td>\n",
       "      <td>6.80000</td>\n",
       "      <td>7.3000</td>\n",
       "      <td>14.20000</td>\n",
       "    </tr>\n",
       "    <tr>\n",
       "      <th>volatile acidity</th>\n",
       "      <td>3918.0</td>\n",
       "      <td>0.278278</td>\n",
       "      <td>0.100173</td>\n",
       "      <td>0.08000</td>\n",
       "      <td>0.210000</td>\n",
       "      <td>0.26000</td>\n",
       "      <td>0.3200</td>\n",
       "      <td>1.00500</td>\n",
       "    </tr>\n",
       "    <tr>\n",
       "      <th>citric acid</th>\n",
       "      <td>3918.0</td>\n",
       "      <td>0.334722</td>\n",
       "      <td>0.122170</td>\n",
       "      <td>0.00000</td>\n",
       "      <td>0.270000</td>\n",
       "      <td>0.32000</td>\n",
       "      <td>0.3900</td>\n",
       "      <td>1.66000</td>\n",
       "    </tr>\n",
       "    <tr>\n",
       "      <th>residual sugar</th>\n",
       "      <td>3918.0</td>\n",
       "      <td>6.380028</td>\n",
       "      <td>5.057262</td>\n",
       "      <td>0.60000</td>\n",
       "      <td>1.700000</td>\n",
       "      <td>5.20000</td>\n",
       "      <td>9.8500</td>\n",
       "      <td>65.80000</td>\n",
       "    </tr>\n",
       "    <tr>\n",
       "      <th>chlorides</th>\n",
       "      <td>3918.0</td>\n",
       "      <td>0.045709</td>\n",
       "      <td>0.022408</td>\n",
       "      <td>0.00900</td>\n",
       "      <td>0.036000</td>\n",
       "      <td>0.04300</td>\n",
       "      <td>0.0500</td>\n",
       "      <td>0.34600</td>\n",
       "    </tr>\n",
       "    <tr>\n",
       "      <th>free sulfur dioxide</th>\n",
       "      <td>3918.0</td>\n",
       "      <td>35.172282</td>\n",
       "      <td>17.139453</td>\n",
       "      <td>2.00000</td>\n",
       "      <td>23.000000</td>\n",
       "      <td>34.00000</td>\n",
       "      <td>45.0000</td>\n",
       "      <td>289.00000</td>\n",
       "    </tr>\n",
       "    <tr>\n",
       "      <th>total sulfur dioxide</th>\n",
       "      <td>3918.0</td>\n",
       "      <td>137.688999</td>\n",
       "      <td>42.577736</td>\n",
       "      <td>9.00000</td>\n",
       "      <td>107.000000</td>\n",
       "      <td>133.50000</td>\n",
       "      <td>166.0000</td>\n",
       "      <td>440.00000</td>\n",
       "    </tr>\n",
       "    <tr>\n",
       "      <th>density</th>\n",
       "      <td>3918.0</td>\n",
       "      <td>0.994021</td>\n",
       "      <td>0.002987</td>\n",
       "      <td>0.98711</td>\n",
       "      <td>0.991753</td>\n",
       "      <td>0.99373</td>\n",
       "      <td>0.9961</td>\n",
       "      <td>1.03898</td>\n",
       "    </tr>\n",
       "    <tr>\n",
       "      <th>pH</th>\n",
       "      <td>3918.0</td>\n",
       "      <td>3.187412</td>\n",
       "      <td>0.151155</td>\n",
       "      <td>2.72000</td>\n",
       "      <td>3.080000</td>\n",
       "      <td>3.18000</td>\n",
       "      <td>3.2800</td>\n",
       "      <td>3.82000</td>\n",
       "    </tr>\n",
       "    <tr>\n",
       "      <th>sulphates</th>\n",
       "      <td>3918.0</td>\n",
       "      <td>0.489104</td>\n",
       "      <td>0.114159</td>\n",
       "      <td>0.23000</td>\n",
       "      <td>0.410000</td>\n",
       "      <td>0.47500</td>\n",
       "      <td>0.5500</td>\n",
       "      <td>1.08000</td>\n",
       "    </tr>\n",
       "    <tr>\n",
       "      <th>alcohol</th>\n",
       "      <td>3918.0</td>\n",
       "      <td>10.516563</td>\n",
       "      <td>1.230119</td>\n",
       "      <td>8.00000</td>\n",
       "      <td>9.500000</td>\n",
       "      <td>10.40000</td>\n",
       "      <td>11.4000</td>\n",
       "      <td>14.00000</td>\n",
       "    </tr>\n",
       "  </tbody>\n",
       "</table>\n",
       "</div>"
      ],
      "text/plain": [
       "                       count        mean        std      min         25%  \\\n",
       "fixed acidity         3918.0    6.858754   0.855479  4.20000    6.300000   \n",
       "volatile acidity      3918.0    0.278278   0.100173  0.08000    0.210000   \n",
       "citric acid           3918.0    0.334722   0.122170  0.00000    0.270000   \n",
       "residual sugar        3918.0    6.380028   5.057262  0.60000    1.700000   \n",
       "chlorides             3918.0    0.045709   0.022408  0.00900    0.036000   \n",
       "free sulfur dioxide   3918.0   35.172282  17.139453  2.00000   23.000000   \n",
       "total sulfur dioxide  3918.0  137.688999  42.577736  9.00000  107.000000   \n",
       "density               3918.0    0.994021   0.002987  0.98711    0.991753   \n",
       "pH                    3918.0    3.187412   0.151155  2.72000    3.080000   \n",
       "sulphates             3918.0    0.489104   0.114159  0.23000    0.410000   \n",
       "alcohol               3918.0   10.516563   1.230119  8.00000    9.500000   \n",
       "\n",
       "                            50%       75%        max  \n",
       "fixed acidity           6.80000    7.3000   14.20000  \n",
       "volatile acidity        0.26000    0.3200    1.00500  \n",
       "citric acid             0.32000    0.3900    1.66000  \n",
       "residual sugar          5.20000    9.8500   65.80000  \n",
       "chlorides               0.04300    0.0500    0.34600  \n",
       "free sulfur dioxide    34.00000   45.0000  289.00000  \n",
       "total sulfur dioxide  133.50000  166.0000  440.00000  \n",
       "density                 0.99373    0.9961    1.03898  \n",
       "pH                      3.18000    3.2800    3.82000  \n",
       "sulphates               0.47500    0.5500    1.08000  \n",
       "alcohol                10.40000   11.4000   14.00000  "
      ]
     },
     "execution_count": 10,
     "metadata": {},
     "output_type": "execute_result"
    }
   ],
   "source": [
    "# Also look at the overall statistics\n",
    "train_stats = train_dataset.describe()\n",
    "train_stats.pop(\"quality\")\n",
    "train_stats = train_stats.transpose()\n",
    "train_stats"
   ]
  },
  {
   "cell_type": "code",
   "execution_count": 11,
   "metadata": {},
   "outputs": [],
   "source": [
    "# Split features from labels\n",
    "# Separate the target value, or \"label\", from the features. \n",
    "# This label is the value that you will train the model to predict.\n",
    "\n",
    "train_labels = train_dataset.pop('quality')\n",
    "test_labels = test_dataset.pop('quality')"
   ]
  },
  {
   "cell_type": "code",
   "execution_count": 12,
   "metadata": {},
   "outputs": [],
   "source": [
    "# Normalize the data \n",
    "\n",
    "def norm(x):\n",
    "  return (x - train_stats['mean']) / train_stats['std']\n",
    "normed_train_data = norm(train_dataset)\n",
    "normed_test_data = norm(test_dataset)"
   ]
  },
  {
   "cell_type": "code",
   "execution_count": 13,
   "metadata": {},
   "outputs": [
    {
     "data": {
      "text/html": [
       "<div>\n",
       "<style scoped>\n",
       "    .dataframe tbody tr th:only-of-type {\n",
       "        vertical-align: middle;\n",
       "    }\n",
       "\n",
       "    .dataframe tbody tr th {\n",
       "        vertical-align: top;\n",
       "    }\n",
       "\n",
       "    .dataframe thead th {\n",
       "        text-align: right;\n",
       "    }\n",
       "</style>\n",
       "<table border=\"1\" class=\"dataframe\">\n",
       "  <thead>\n",
       "    <tr style=\"text-align: right;\">\n",
       "      <th></th>\n",
       "      <th>count</th>\n",
       "      <th>mean</th>\n",
       "      <th>std</th>\n",
       "      <th>min</th>\n",
       "      <th>25%</th>\n",
       "      <th>50%</th>\n",
       "      <th>75%</th>\n",
       "      <th>max</th>\n",
       "    </tr>\n",
       "  </thead>\n",
       "  <tbody>\n",
       "    <tr>\n",
       "      <th>fixed acidity</th>\n",
       "      <td>3918.0</td>\n",
       "      <td>8.877250e-16</td>\n",
       "      <td>1.0</td>\n",
       "      <td>-3.107913</td>\n",
       "      <td>-0.653148</td>\n",
       "      <td>-0.068680</td>\n",
       "      <td>0.515788</td>\n",
       "      <td>8.581444</td>\n",
       "    </tr>\n",
       "    <tr>\n",
       "      <th>volatile acidity</th>\n",
       "      <td>3918.0</td>\n",
       "      <td>-3.545460e-16</td>\n",
       "      <td>1.0</td>\n",
       "      <td>-1.979352</td>\n",
       "      <td>-0.681603</td>\n",
       "      <td>-0.182468</td>\n",
       "      <td>0.416493</td>\n",
       "      <td>7.254636</td>\n",
       "    </tr>\n",
       "    <tr>\n",
       "      <th>citric acid</th>\n",
       "      <td>3918.0</td>\n",
       "      <td>-2.357595e-16</td>\n",
       "      <td>1.0</td>\n",
       "      <td>-2.739798</td>\n",
       "      <td>-0.529767</td>\n",
       "      <td>-0.120502</td>\n",
       "      <td>0.452469</td>\n",
       "      <td>10.847799</td>\n",
       "    </tr>\n",
       "    <tr>\n",
       "      <th>residual sugar</th>\n",
       "      <td>3918.0</td>\n",
       "      <td>-7.616844e-17</td>\n",
       "      <td>1.0</td>\n",
       "      <td>-1.142917</td>\n",
       "      <td>-0.925408</td>\n",
       "      <td>-0.233333</td>\n",
       "      <td>0.686136</td>\n",
       "      <td>11.749436</td>\n",
       "    </tr>\n",
       "    <tr>\n",
       "      <th>chlorides</th>\n",
       "      <td>3918.0</td>\n",
       "      <td>-4.243670e-16</td>\n",
       "      <td>1.0</td>\n",
       "      <td>-1.638208</td>\n",
       "      <td>-0.433275</td>\n",
       "      <td>-0.120885</td>\n",
       "      <td>0.191505</td>\n",
       "      <td>13.401138</td>\n",
       "    </tr>\n",
       "    <tr>\n",
       "      <th>free sulfur dioxide</th>\n",
       "      <td>3918.0</td>\n",
       "      <td>-3.808422e-17</td>\n",
       "      <td>1.0</td>\n",
       "      <td>-1.935434</td>\n",
       "      <td>-0.710191</td>\n",
       "      <td>-0.068397</td>\n",
       "      <td>0.573397</td>\n",
       "      <td>14.809558</td>\n",
       "    </tr>\n",
       "    <tr>\n",
       "      <th>total sulfur dioxide</th>\n",
       "      <td>3918.0</td>\n",
       "      <td>-3.010467e-16</td>\n",
       "      <td>1.0</td>\n",
       "      <td>-3.022448</td>\n",
       "      <td>-0.720776</td>\n",
       "      <td>-0.098385</td>\n",
       "      <td>0.664925</td>\n",
       "      <td>7.100213</td>\n",
       "    </tr>\n",
       "    <tr>\n",
       "      <th>density</th>\n",
       "      <td>3918.0</td>\n",
       "      <td>-1.085219e-14</td>\n",
       "      <td>1.0</td>\n",
       "      <td>-2.313984</td>\n",
       "      <td>-0.759599</td>\n",
       "      <td>-0.097500</td>\n",
       "      <td>0.696015</td>\n",
       "      <td>15.052938</td>\n",
       "    </tr>\n",
       "    <tr>\n",
       "      <th>pH</th>\n",
       "      <td>3918.0</td>\n",
       "      <td>1.932321e-15</td>\n",
       "      <td>1.0</td>\n",
       "      <td>-3.092269</td>\n",
       "      <td>-0.710608</td>\n",
       "      <td>-0.049035</td>\n",
       "      <td>0.612537</td>\n",
       "      <td>4.185029</td>\n",
       "    </tr>\n",
       "    <tr>\n",
       "      <th>sulphates</th>\n",
       "      <td>3918.0</td>\n",
       "      <td>1.668452e-16</td>\n",
       "      <td>1.0</td>\n",
       "      <td>-2.269679</td>\n",
       "      <td>-0.692930</td>\n",
       "      <td>-0.123548</td>\n",
       "      <td>0.533431</td>\n",
       "      <td>5.176082</td>\n",
       "    </tr>\n",
       "    <tr>\n",
       "      <th>alcohol</th>\n",
       "      <td>3918.0</td>\n",
       "      <td>-4.279941e-16</td>\n",
       "      <td>1.0</td>\n",
       "      <td>-2.045788</td>\n",
       "      <td>-0.826394</td>\n",
       "      <td>-0.094757</td>\n",
       "      <td>0.718172</td>\n",
       "      <td>2.831788</td>\n",
       "    </tr>\n",
       "  </tbody>\n",
       "</table>\n",
       "</div>"
      ],
      "text/plain": [
       "                       count          mean  std       min       25%       50%  \\\n",
       "fixed acidity         3918.0  8.877250e-16  1.0 -3.107913 -0.653148 -0.068680   \n",
       "volatile acidity      3918.0 -3.545460e-16  1.0 -1.979352 -0.681603 -0.182468   \n",
       "citric acid           3918.0 -2.357595e-16  1.0 -2.739798 -0.529767 -0.120502   \n",
       "residual sugar        3918.0 -7.616844e-17  1.0 -1.142917 -0.925408 -0.233333   \n",
       "chlorides             3918.0 -4.243670e-16  1.0 -1.638208 -0.433275 -0.120885   \n",
       "free sulfur dioxide   3918.0 -3.808422e-17  1.0 -1.935434 -0.710191 -0.068397   \n",
       "total sulfur dioxide  3918.0 -3.010467e-16  1.0 -3.022448 -0.720776 -0.098385   \n",
       "density               3918.0 -1.085219e-14  1.0 -2.313984 -0.759599 -0.097500   \n",
       "pH                    3918.0  1.932321e-15  1.0 -3.092269 -0.710608 -0.049035   \n",
       "sulphates             3918.0  1.668452e-16  1.0 -2.269679 -0.692930 -0.123548   \n",
       "alcohol               3918.0 -4.279941e-16  1.0 -2.045788 -0.826394 -0.094757   \n",
       "\n",
       "                           75%        max  \n",
       "fixed acidity         0.515788   8.581444  \n",
       "volatile acidity      0.416493   7.254636  \n",
       "citric acid           0.452469  10.847799  \n",
       "residual sugar        0.686136  11.749436  \n",
       "chlorides             0.191505  13.401138  \n",
       "free sulfur dioxide   0.573397  14.809558  \n",
       "total sulfur dioxide  0.664925   7.100213  \n",
       "density               0.696015  15.052938  \n",
       "pH                    0.612537   4.185029  \n",
       "sulphates             0.533431   5.176082  \n",
       "alcohol               0.718172   2.831788  "
      ]
     },
     "execution_count": 13,
     "metadata": {},
     "output_type": "execute_result"
    }
   ],
   "source": [
    "# view the normalized data\n",
    "# This normalized data is what we will use to train the model.\n",
    "normed_train_data.describe().transpose()"
   ]
  },
  {
   "cell_type": "markdown",
   "metadata": {},
   "source": [
    "### The model"
   ]
  },
  {
   "cell_type": "code",
   "execution_count": 14,
   "metadata": {},
   "outputs": [],
   "source": [
    "# Build the model\n",
    "\n",
    "# a Sequential model with two densely connected hidden layers, & an output layer that returns a single, continuous value. \n",
    "# The model building steps are wrapped in a function, build_model, since we'll create a second model, later on.\n",
    "\n",
    "def build_model():\n",
    "    model = keras.Sequential([\n",
    "       layers.Dense(64, activation='relu', input_shape=[len(train_dataset.keys())]),\n",
    "       layers.Dense(64, activation='relu'),\n",
    "       layers.Dense(1)])\n",
    "    optimizer = tf.keras.optimizers.RMSprop(0.001)\n",
    "    \n",
    "    model.compile(loss='mse',\n",
    "                optimizer=optimizer,\n",
    "                metrics=['mae', 'mse'])\n",
    "    return model"
   ]
  },
  {
   "cell_type": "code",
   "execution_count": 15,
   "metadata": {},
   "outputs": [],
   "source": [
    "model = build_model()"
   ]
  },
  {
   "cell_type": "code",
   "execution_count": 16,
   "metadata": {},
   "outputs": [
    {
     "name": "stdout",
     "output_type": "stream",
     "text": [
      "Model: \"sequential\"\n",
      "_________________________________________________________________\n",
      "Layer (type)                 Output Shape              Param #   \n",
      "=================================================================\n",
      "dense (Dense)                (None, 64)                768       \n",
      "_________________________________________________________________\n",
      "dense_1 (Dense)              (None, 64)                4160      \n",
      "_________________________________________________________________\n",
      "dense_2 (Dense)              (None, 1)                 65        \n",
      "=================================================================\n",
      "Total params: 4,993\n",
      "Trainable params: 4,993\n",
      "Non-trainable params: 0\n",
      "_________________________________________________________________\n"
     ]
    }
   ],
   "source": [
    "# Inspect the model\n",
    "model.summary()"
   ]
  },
  {
   "cell_type": "code",
   "execution_count": 17,
   "metadata": {},
   "outputs": [
    {
     "name": "stdout",
     "output_type": "stream",
     "text": [
      "WARNING:tensorflow:Falling back from v2 loop because of error: Failed to find data adapter that can handle input: <class 'pandas.core.frame.DataFrame'>, <class 'NoneType'>\n"
     ]
    },
    {
     "data": {
      "text/plain": [
       "array([[-0.14008063],\n",
       "       [-0.05522717],\n",
       "       [-0.02840211],\n",
       "       [ 0.06489336],\n",
       "       [ 0.02084336],\n",
       "       [-0.63971317],\n",
       "       [ 0.10860173],\n",
       "       [-0.0313242 ],\n",
       "       [ 0.12581876],\n",
       "       [-0.3166072 ]], dtype=float32)"
      ]
     },
     "execution_count": 17,
     "metadata": {},
     "output_type": "execute_result"
    }
   ],
   "source": [
    "# Now try out the model. \n",
    "# Take a batch of 10 examples from the training data and call model.predict on it.\n",
    "\n",
    "example_batch = normed_train_data[:10]\n",
    "example_result = model.predict(example_batch)\n",
    "example_result"
   ]
  },
  {
   "cell_type": "code",
   "execution_count": 18,
   "metadata": {},
   "outputs": [
    {
     "name": "stdout",
     "output_type": "stream",
     "text": [
      "WARNING:tensorflow:Falling back from v2 loop because of error: Failed to find data adapter that can handle input: <class 'pandas.core.frame.DataFrame'>, <class 'NoneType'>\n",
      "\n",
      "....................................................................................................\n",
      "....................................................................................................\n",
      "....................................................................................................\n",
      "....................................................................................................\n",
      "....................................................................................................\n",
      "....................................................................................................\n",
      "....................................................................................................\n",
      "....................................................................................................\n",
      "....................................................................................................\n",
      "...................................................................................................."
     ]
    }
   ],
   "source": [
    "# Train the model\n",
    "# Train the model for 1000 epochs,\n",
    "# and record the training and validation accuracy in the history object.\n",
    "\n",
    "# Display training progress by printing a single dot for each completed epoch\n",
    "class PrintDot(keras.callbacks.Callback):\n",
    "  def on_epoch_end(self, epoch, logs):\n",
    "    if epoch % 100 == 0: print('')\n",
    "    print('.', end='')\n",
    "    \n",
    "EPOCHS = 1000\n",
    "    \n",
    "history = model.fit(\n",
    "    normed_train_data, train_labels,\n",
    "    epochs=EPOCHS, validation_split = 0.2, verbose=0,\n",
    "    callbacks=[PrintDot()])"
   ]
  },
  {
   "cell_type": "code",
   "execution_count": 19,
   "metadata": {},
   "outputs": [
    {
     "data": {
      "text/html": [
       "<div>\n",
       "<style scoped>\n",
       "    .dataframe tbody tr th:only-of-type {\n",
       "        vertical-align: middle;\n",
       "    }\n",
       "\n",
       "    .dataframe tbody tr th {\n",
       "        vertical-align: top;\n",
       "    }\n",
       "\n",
       "    .dataframe thead th {\n",
       "        text-align: right;\n",
       "    }\n",
       "</style>\n",
       "<table border=\"1\" class=\"dataframe\">\n",
       "  <thead>\n",
       "    <tr style=\"text-align: right;\">\n",
       "      <th></th>\n",
       "      <th>loss</th>\n",
       "      <th>mae</th>\n",
       "      <th>mse</th>\n",
       "      <th>val_loss</th>\n",
       "      <th>val_mae</th>\n",
       "      <th>val_mse</th>\n",
       "      <th>epoch</th>\n",
       "    </tr>\n",
       "  </thead>\n",
       "  <tbody>\n",
       "    <tr>\n",
       "      <th>995</th>\n",
       "      <td>0.084793</td>\n",
       "      <td>0.223791</td>\n",
       "      <td>0.084793</td>\n",
       "      <td>0.785508</td>\n",
       "      <td>0.616802</td>\n",
       "      <td>0.785508</td>\n",
       "      <td>995</td>\n",
       "    </tr>\n",
       "    <tr>\n",
       "      <th>996</th>\n",
       "      <td>0.089344</td>\n",
       "      <td>0.226057</td>\n",
       "      <td>0.089344</td>\n",
       "      <td>0.783880</td>\n",
       "      <td>0.622898</td>\n",
       "      <td>0.783880</td>\n",
       "      <td>996</td>\n",
       "    </tr>\n",
       "    <tr>\n",
       "      <th>997</th>\n",
       "      <td>0.089223</td>\n",
       "      <td>0.228314</td>\n",
       "      <td>0.089223</td>\n",
       "      <td>0.778146</td>\n",
       "      <td>0.611055</td>\n",
       "      <td>0.778146</td>\n",
       "      <td>997</td>\n",
       "    </tr>\n",
       "    <tr>\n",
       "      <th>998</th>\n",
       "      <td>0.089965</td>\n",
       "      <td>0.229776</td>\n",
       "      <td>0.089965</td>\n",
       "      <td>0.830769</td>\n",
       "      <td>0.653446</td>\n",
       "      <td>0.830769</td>\n",
       "      <td>998</td>\n",
       "    </tr>\n",
       "    <tr>\n",
       "      <th>999</th>\n",
       "      <td>0.086605</td>\n",
       "      <td>0.226109</td>\n",
       "      <td>0.086605</td>\n",
       "      <td>0.817787</td>\n",
       "      <td>0.633909</td>\n",
       "      <td>0.817787</td>\n",
       "      <td>999</td>\n",
       "    </tr>\n",
       "  </tbody>\n",
       "</table>\n",
       "</div>"
      ],
      "text/plain": [
       "         loss       mae       mse  val_loss   val_mae   val_mse  epoch\n",
       "995  0.084793  0.223791  0.084793  0.785508  0.616802  0.785508    995\n",
       "996  0.089344  0.226057  0.089344  0.783880  0.622898  0.783880    996\n",
       "997  0.089223  0.228314  0.089223  0.778146  0.611055  0.778146    997\n",
       "998  0.089965  0.229776  0.089965  0.830769  0.653446  0.830769    998\n",
       "999  0.086605  0.226109  0.086605  0.817787  0.633909  0.817787    999"
      ]
     },
     "execution_count": 19,
     "metadata": {},
     "output_type": "execute_result"
    }
   ],
   "source": [
    "# View History\n",
    "hist = pd.DataFrame(history.history)\n",
    "hist['epoch'] = history.epoch\n",
    "hist.tail()"
   ]
  },
  {
   "cell_type": "code",
   "execution_count": 20,
   "metadata": {},
   "outputs": [
    {
     "data": {
      "image/png": "[encoded data removed]",
      "text/plain": [
       "<Figure size 432x288 with 1 Axes>"
      ]
     },
     "metadata": {
      "needs_background": "light"
     },
     "output_type": "display_data"
    },
    {
     "data": {
      "image/png": "[encoded data removed]",
      "text/plain": [
       "<Figure size 432x288 with 1 Axes>"
      ]
     },
     "metadata": {
      "needs_background": "light"
     },
     "output_type": "display_data"
    }
   ],
   "source": [
    "# Plot History\n",
    "\n",
    "def plot_history(history):\n",
    "    hist = pd.DataFrame(history.history)\n",
    "    hist['epoch'] = history.epoch\n",
    "\n",
    "    plt.figure()\n",
    "    plt.xlabel('Epoch')\n",
    "    plt.ylabel('Mean Abs Error [MPG]')\n",
    "    plt.plot(hist['epoch'], hist['mae'],\n",
    "             label='Train Error')\n",
    "    plt.plot(hist['epoch'], hist['val_mae'],\n",
    "             label = 'Val Error')\n",
    "    plt.ylim([0,5])\n",
    "    plt.legend()\n",
    "\n",
    "    plt.figure()\n",
    "    plt.xlabel('Epoch')\n",
    "    plt.ylabel('Mean Square Error [$MPG^2$]')\n",
    "    plt.plot(hist['epoch'], hist['mse'],\n",
    "             label='Train Error')\n",
    "    plt.plot(hist['epoch'], hist['val_mse'],\n",
    "             label = 'Val Error')\n",
    "    plt.ylim([0,20])\n",
    "    plt.legend()\n",
    "    plt.show()\n",
    "    \n",
    "    \n",
    "plot_history(history)"
   ]
  },
  {
   "cell_type": "code",
   "execution_count": 21,
   "metadata": {},
   "outputs": [
    {
     "name": "stdout",
     "output_type": "stream",
     "text": [
      "WARNING:tensorflow:Falling back from v2 loop because of error: Failed to find data adapter that can handle input: <class 'pandas.core.frame.DataFrame'>, <class 'NoneType'>\n",
      "\n",
      ".........................................."
     ]
    },
    {
     "data": {
      "image/png": "[encoded data removed]",
      "text/plain": [
       "<Figure size 432x288 with 1 Axes>"
      ]
     },
     "metadata": {
      "needs_background": "light"
     },
     "output_type": "display_data"
    },
    {
     "data": {
      "image/png": "[encoded data removed]",
      "text/plain": [
       "<Figure size 432x288 with 1 Axes>"
      ]
     },
     "metadata": {
      "needs_background": "light"
     },
     "output_type": "display_data"
    }
   ],
   "source": [
    "# Let's update the model.fit call to automatically stop training when the validation score doesn't improve.\n",
    "\n",
    "model = build_model()\n",
    "\n",
    "# The patience parameter is the amount of epochs to check for improvement\n",
    "early_stop = keras.callbacks.EarlyStopping(monitor='val_loss', patience=10)\n",
    "\n",
    "history = model.fit(normed_train_data, train_labels, epochs=EPOCHS,\n",
    "                    validation_split = 0.2, verbose=0, callbacks=[early_stop, PrintDot()])\n",
    "\n",
    "plot_history(history)"
   ]
  },
  {
   "cell_type": "code",
   "execution_count": 22,
   "metadata": {},
   "outputs": [
    {
     "name": "stdout",
     "output_type": "stream",
     "text": [
      "WARNING:tensorflow:Falling back from v2 loop because of error: Failed to find data adapter that can handle input: <class 'pandas.core.frame.DataFrame'>, <class 'NoneType'>\n",
      "980/980 - 0s - loss: 0.4898 - mae: 0.5401 - mse: 0.4898\n",
      "Testing set Mean Abs Error:  0.54 quality\n"
     ]
    }
   ],
   "source": [
    "# Let's see how well the model generalizes by using the test set,was not used when training the model. \n",
    "# This tells us how well we can expect the model to predict when we use it in the real world.\n",
    "\n",
    "loss, mae, mse = model.evaluate(normed_test_data, test_labels, verbose=2)\n",
    "\n",
    "print(\"Testing set Mean Abs Error: {:5.2f} quality\".format(mae))"
   ]
  },
  {
   "cell_type": "code",
   "execution_count": 23,
   "metadata": {},
   "outputs": [
    {
     "name": "stdout",
     "output_type": "stream",
     "text": [
      "WARNING:tensorflow:Falling back from v2 loop because of error: Failed to find data adapter that can handle input: <class 'pandas.core.frame.DataFrame'>, <class 'NoneType'>\n"
     ]
    },
    {
     "data": {
      "image/png": "[encoded data removed]",
      "text/plain": [
       "<Figure size 432x288 with 1 Axes>"
      ]
     },
     "metadata": {
      "needs_background": "light"
     },
     "output_type": "display_data"
    }
   ],
   "source": [
    "# Make predictions\n",
    "# Finally, predict MPG values using data in the testing set:\n",
    "\n",
    "test_predictions = model.predict(normed_test_data).flatten()\n",
    "\n",
    "a = plt.axes(aspect='equal')\n",
    "plt.scatter(test_labels, test_predictions)\n",
    "plt.xlabel('True Values [quality]')\n",
    "plt.ylabel('Predictions [quality]')\n",
    "lims = [2, 10]\n",
    "plt.xlim(lims)\n",
    "plt.ylim(lims)\n",
    "_ = plt.plot(lims, lims)"
   ]
  },
  {
   "cell_type": "code",
   "execution_count": 24,
   "metadata": {},
   "outputs": [
    {
     "data": {
      "image/png": "[encoded data removed]",
      "text/plain": [
       "<Figure size 432x288 with 1 Axes>"
      ]
     },
     "metadata": {
      "needs_background": "light"
     },
     "output_type": "display_data"
    }
   ],
   "source": [
    "error = test_predictions - test_labels\n",
    "plt.hist(error, bins = 25)\n",
    "plt.xlabel(\"Prediction Error [quality]\")\n",
    "_ = plt.ylabel(\"Count\")"
   ]
  },
  {
   "cell_type": "markdown",
   "metadata": {},
   "source": [
    "### Predictions By Example"
   ]
  },
  {
   "cell_type": "code",
   "execution_count": 25,
   "metadata": {},
   "outputs": [],
   "source": [
    "# pick samples\n",
    "i = 10\n",
    "example_batch1 = normed_test_data[:i]\n",
    "example_test_labels = test_labels[:i]"
   ]
  },
  {
   "cell_type": "code",
   "execution_count": 26,
   "metadata": {},
   "outputs": [
    {
     "data": {
      "text/html": [
       "<div>\n",
       "<style scoped>\n",
       "    .dataframe tbody tr th:only-of-type {\n",
       "        vertical-align: middle;\n",
       "    }\n",
       "\n",
       "    .dataframe tbody tr th {\n",
       "        vertical-align: top;\n",
       "    }\n",
       "\n",
       "    .dataframe thead th {\n",
       "        text-align: right;\n",
       "    }\n",
       "</style>\n",
       "<table border=\"1\" class=\"dataframe\">\n",
       "  <thead>\n",
       "    <tr style=\"text-align: right;\">\n",
       "      <th></th>\n",
       "      <th>fixed acidity</th>\n",
       "      <th>volatile acidity</th>\n",
       "      <th>citric acid</th>\n",
       "      <th>residual sugar</th>\n",
       "      <th>chlorides</th>\n",
       "      <th>free sulfur dioxide</th>\n",
       "      <th>total sulfur dioxide</th>\n",
       "      <th>density</th>\n",
       "      <th>pH</th>\n",
       "      <th>sulphates</th>\n",
       "      <th>alcohol</th>\n",
       "    </tr>\n",
       "  </thead>\n",
       "  <tbody>\n",
       "    <tr>\n",
       "      <th>0</th>\n",
       "      <td>0.165107</td>\n",
       "      <td>-0.082641</td>\n",
       "      <td>0.206910</td>\n",
       "      <td>2.831566</td>\n",
       "      <td>-0.031631</td>\n",
       "      <td>0.573397</td>\n",
       "      <td>0.758871</td>\n",
       "      <td>2.336614</td>\n",
       "      <td>-1.239866</td>\n",
       "      <td>-0.342541</td>\n",
       "      <td>-1.395444</td>\n",
       "    </tr>\n",
       "    <tr>\n",
       "      <th>7</th>\n",
       "      <td>0.165107</td>\n",
       "      <td>-0.082641</td>\n",
       "      <td>0.206910</td>\n",
       "      <td>2.831566</td>\n",
       "      <td>-0.031631</td>\n",
       "      <td>0.573397</td>\n",
       "      <td>0.758871</td>\n",
       "      <td>2.336614</td>\n",
       "      <td>-1.239866</td>\n",
       "      <td>-0.342541</td>\n",
       "      <td>-1.395444</td>\n",
       "    </tr>\n",
       "    <tr>\n",
       "      <th>21</th>\n",
       "      <td>-0.536254</td>\n",
       "      <td>0.316666</td>\n",
       "      <td>0.370616</td>\n",
       "      <td>-0.688125</td>\n",
       "      <td>-0.344021</td>\n",
       "      <td>-0.943570</td>\n",
       "      <td>-0.838208</td>\n",
       "      <td>-0.944585</td>\n",
       "      <td>-0.115193</td>\n",
       "      <td>-1.218513</td>\n",
       "      <td>0.393000</td>\n",
       "    </tr>\n",
       "    <tr>\n",
       "      <th>24</th>\n",
       "      <td>-0.302467</td>\n",
       "      <td>-0.082641</td>\n",
       "      <td>0.616175</td>\n",
       "      <td>-1.004502</td>\n",
       "      <td>0.280759</td>\n",
       "      <td>-1.118605</td>\n",
       "      <td>0.101250</td>\n",
       "      <td>0.361198</td>\n",
       "      <td>1.538739</td>\n",
       "      <td>-0.167347</td>\n",
       "      <td>-0.419929</td>\n",
       "    </tr>\n",
       "    <tr>\n",
       "      <th>25</th>\n",
       "      <td>0.165107</td>\n",
       "      <td>-0.282295</td>\n",
       "      <td>-0.120502</td>\n",
       "      <td>0.518061</td>\n",
       "      <td>0.012996</td>\n",
       "      <td>1.215192</td>\n",
       "      <td>2.520355</td>\n",
       "      <td>0.495125</td>\n",
       "      <td>0.414065</td>\n",
       "      <td>0.095445</td>\n",
       "      <td>-0.094757</td>\n",
       "    </tr>\n",
       "    <tr>\n",
       "      <th>28</th>\n",
       "      <td>0.632681</td>\n",
       "      <td>-0.082641</td>\n",
       "      <td>1.189146</td>\n",
       "      <td>-1.044049</td>\n",
       "      <td>0.057623</td>\n",
       "      <td>-1.060260</td>\n",
       "      <td>-0.133614</td>\n",
       "      <td>-0.877622</td>\n",
       "      <td>0.017122</td>\n",
       "      <td>0.007848</td>\n",
       "      <td>0.880758</td>\n",
       "    </tr>\n",
       "    <tr>\n",
       "      <th>32</th>\n",
       "      <td>0.632681</td>\n",
       "      <td>-0.282295</td>\n",
       "      <td>0.206910</td>\n",
       "      <td>-0.856200</td>\n",
       "      <td>0.191505</td>\n",
       "      <td>-0.243431</td>\n",
       "      <td>-0.885181</td>\n",
       "      <td>-0.676732</td>\n",
       "      <td>0.017122</td>\n",
       "      <td>-0.430138</td>\n",
       "      <td>0.230414</td>\n",
       "    </tr>\n",
       "    <tr>\n",
       "      <th>62</th>\n",
       "      <td>0.165107</td>\n",
       "      <td>1.913897</td>\n",
       "      <td>-2.166827</td>\n",
       "      <td>-1.044049</td>\n",
       "      <td>-0.477902</td>\n",
       "      <td>-1.060260</td>\n",
       "      <td>0.312628</td>\n",
       "      <td>-1.011549</td>\n",
       "      <td>-1.107552</td>\n",
       "      <td>-1.306110</td>\n",
       "      <td>-0.013464</td>\n",
       "    </tr>\n",
       "    <tr>\n",
       "      <th>63</th>\n",
       "      <td>-0.302467</td>\n",
       "      <td>1.015455</td>\n",
       "      <td>-1.512003</td>\n",
       "      <td>-0.351975</td>\n",
       "      <td>-0.076258</td>\n",
       "      <td>-0.593501</td>\n",
       "      <td>-1.401883</td>\n",
       "      <td>-0.308434</td>\n",
       "      <td>-0.512136</td>\n",
       "      <td>-0.955722</td>\n",
       "      <td>-0.257343</td>\n",
       "    </tr>\n",
       "    <tr>\n",
       "      <th>74</th>\n",
       "      <td>-0.185574</td>\n",
       "      <td>-0.481949</td>\n",
       "      <td>-0.202355</td>\n",
       "      <td>-0.846313</td>\n",
       "      <td>0.012996</td>\n",
       "      <td>-0.301776</td>\n",
       "      <td>-0.979127</td>\n",
       "      <td>-0.475843</td>\n",
       "      <td>0.943323</td>\n",
       "      <td>1.321805</td>\n",
       "      <td>0.149121</td>\n",
       "    </tr>\n",
       "  </tbody>\n",
       "</table>\n",
       "</div>"
      ],
      "text/plain": [
       "    fixed acidity  volatile acidity  citric acid  residual sugar  chlorides  \\\n",
       "0        0.165107         -0.082641     0.206910        2.831566  -0.031631   \n",
       "7        0.165107         -0.082641     0.206910        2.831566  -0.031631   \n",
       "21      -0.536254          0.316666     0.370616       -0.688125  -0.344021   \n",
       "24      -0.302467         -0.082641     0.616175       -1.004502   0.280759   \n",
       "25       0.165107         -0.282295    -0.120502        0.518061   0.012996   \n",
       "28       0.632681         -0.082641     1.189146       -1.044049   0.057623   \n",
       "32       0.632681         -0.282295     0.206910       -0.856200   0.191505   \n",
       "62       0.165107          1.913897    -2.166827       -1.044049  -0.477902   \n",
       "63      -0.302467          1.015455    -1.512003       -0.351975  -0.076258   \n",
       "74      -0.185574         -0.481949    -0.202355       -0.846313   0.012996   \n",
       "\n",
       "    free sulfur dioxide  total sulfur dioxide   density        pH  sulphates  \\\n",
       "0              0.573397              0.758871  2.336614 -1.239866  -0.342541   \n",
       "7              0.573397              0.758871  2.336614 -1.239866  -0.342541   \n",
       "21            -0.943570             -0.838208 -0.944585 -0.115193  -1.218513   \n",
       "24            -1.118605              0.101250  0.361198  1.538739  -0.167347   \n",
       "25             1.215192              2.520355  0.495125  0.414065   0.095445   \n",
       "28            -1.060260             -0.133614 -0.877622  0.017122   0.007848   \n",
       "32            -0.243431             -0.885181 -0.676732  0.017122  -0.430138   \n",
       "62            -1.060260              0.312628 -1.011549 -1.107552  -1.306110   \n",
       "63            -0.593501             -1.401883 -0.308434 -0.512136  -0.955722   \n",
       "74            -0.301776             -0.979127 -0.475843  0.943323   1.321805   \n",
       "\n",
       "     alcohol  \n",
       "0  -1.395444  \n",
       "7  -1.395444  \n",
       "21  0.393000  \n",
       "24 -0.419929  \n",
       "25 -0.094757  \n",
       "28  0.880758  \n",
       "32  0.230414  \n",
       "62 -0.013464  \n",
       "63 -0.257343  \n",
       "74  0.149121  "
      ]
     },
     "execution_count": 26,
     "metadata": {},
     "output_type": "execute_result"
    }
   ],
   "source": [
    "# test samples\n",
    "example_batch1"
   ]
  },
  {
   "cell_type": "code",
   "execution_count": 27,
   "metadata": {},
   "outputs": [
    {
     "data": {
      "text/plain": [
       "0     6\n",
       "7     6\n",
       "21    7\n",
       "24    6\n",
       "25    6\n",
       "28    6\n",
       "32    6\n",
       "62    5\n",
       "63    6\n",
       "74    8\n",
       "Name: quality, dtype: int64"
      ]
     },
     "execution_count": 27,
     "metadata": {},
     "output_type": "execute_result"
    }
   ],
   "source": [
    "# test sample labels\n",
    "example_test_labels"
   ]
  },
  {
   "cell_type": "code",
   "execution_count": 28,
   "metadata": {},
   "outputs": [
    {
     "name": "stdout",
     "output_type": "stream",
     "text": [
      "WARNING:tensorflow:Falling back from v2 loop because of error: Failed to find data adapter that can handle input: <class 'pandas.core.frame.DataFrame'>, <class 'NoneType'>\n"
     ]
    },
    {
     "data": {
      "text/plain": [
       "array([[5.1431828],\n",
       "       [5.1431828],\n",
       "       [6.1026473],\n",
       "       [4.9022403],\n",
       "       [5.8167133],\n",
       "       [5.674759 ],\n",
       "       [6.220279 ],\n",
       "       [4.949231 ],\n",
       "       [5.139261 ],\n",
       "       [6.5023966]], dtype=float32)"
      ]
     },
     "execution_count": 28,
     "metadata": {},
     "output_type": "execute_result"
    }
   ],
   "source": [
    "# prediction\n",
    "example_result = model.predict(example_batch1)\n",
    "example_result"
   ]
  },
  {
   "cell_type": "code",
   "execution_count": 29,
   "metadata": {},
   "outputs": [
    {
     "name": "stdout",
     "output_type": "stream",
     "text": [
      "Correct prediction\n",
      "Correct prediction\n",
      "Correct prediction\n",
      "miss classification\n",
      "Correct prediction\n",
      "Correct prediction\n",
      "miss classification\n",
      "Correct prediction\n",
      "Correct prediction\n",
      "miss classification\n"
     ]
    }
   ],
   "source": [
    "# More accurate results\n",
    "# rounding options (int, np.rint, np.ceil)\n",
    "import numpy as np\n",
    "\n",
    "for i in np.arange(len(example_result)):\n",
    "    if np.ceil(example_result[i]) != np.array(example_test_labels)[i]:\n",
    "        print('miss classification')\n",
    "    else:\n",
    "        print('Correct prediction')"
   ]
  },
  {
   "cell_type": "markdown",
   "metadata": {},
   "source": [
    "### The End"
   ]
  }
 ],
 "metadata": {
  "kernelspec": {
   "display_name": "Python 3",
   "language": "python",
   "name": "python3"
  },
  "language_info": {
   "codemirror_mode": {
    "name": "ipython",
    "version": 3
   },
   "file_extension": ".py",
   "mimetype": "text/x-python",
   "name": "python",
   "nbconvert_exporter": "python",
   "pygments_lexer": "ipython3",
   "version": "3.7.5"
  }
 },
 "nbformat": 4,
 "nbformat_minor": 2
}
